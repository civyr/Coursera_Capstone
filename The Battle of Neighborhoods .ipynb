{
 "cells": [
  {
   "cell_type": "markdown",
   "metadata": {
    "collapsed": true
   },
   "source": [
    "# Introduction/Business Problem:\n",
    "The purpose of present study is identify the best location to open a new restaurant in the capital of Canada, Toronto. To complete or purpose we need\n",
    "the next data: Sccioeconomic features, demographic of population and data of other restaurant, our competitors. This analysis allow to chose the best location fou our entrepreneurship.\n",
    "\n",
    "# Target \n",
    "An inversor or entrepreneur who want to participe in this project. a restaurant chain planning to start a new restaurant in Toronto.\n",
    "\n",
    "\n",
    "# Data\n",
    "\n",
    "\n",
    "Three data sources we going to use for this study. you can see the data below.\n",
    "\n",
    "socioceconomic data of toronto for each Neighborhood of Toronto - csv  census file downloaded from https://open.toronto.ca/dataset/neighbourhood-profiles/\n",
    "\n",
    " Information about our competitors. For this we uses Foursquare data to get information on competitors -\n",
    "\n",
    "https://foursquare.com/explore?mode=url&near=Toronto%2C%20ON%2C%20Canada&nearGeoId=72057594044095801&q=Restaurant\n",
    "\n",
    " the Information of the neighborhoods in Toronto -  https://en.wikipedia.org/wiki/List_of_postal_codes_of_Canada:_M\"\n",
    "\n",
    "\n",
    "\n"
   ]
  },
  {
   "cell_type": "code",
   "execution_count": null,
   "metadata": {},
   "outputs": [],
   "source": []
  }
 ],
 "metadata": {
  "kernelspec": {
   "display_name": "Python 3.6",
   "language": "python",
   "name": "python3"
  },
  "language_info": {
   "codemirror_mode": {
    "name": "ipython",
    "version": 3
   },
   "file_extension": ".py",
   "mimetype": "text/x-python",
   "name": "python",
   "nbconvert_exporter": "python",
   "pygments_lexer": "ipython3",
   "version": "3.6.9"
  }
 },
 "nbformat": 4,
 "nbformat_minor": 1
}
